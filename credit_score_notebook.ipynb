{
 "cells": [
  {
   "cell_type": "code",
   "execution_count": 1,
   "id": "cff78df8-f378-4b40-b5e0-1c1d920f3771",
   "metadata": {},
   "outputs": [],
   "source": [
    "import pandas as pd\n",
    "import numpy as np\n",
    "import matplotlib as plt\n",
    "import seaborn as sns\n",
    "import plotly.express as px\n",
    "import re\n",
    "import pickle"
   ]
  },
  {
   "cell_type": "code",
   "execution_count": 2,
   "id": "463872bc-4eb1-427c-97db-613a171e2ab3",
   "metadata": {},
   "outputs": [],
   "source": [
    "df = pd.read_csv(\"process_2.csv\", low_memory=False)"
   ]
  },
  {
   "cell_type": "code",
   "execution_count": 3,
   "id": "90ab3af9-be43-4ae6-a2d5-5bc70204a6c6",
   "metadata": {},
   "outputs": [
    {
     "name": "stdout",
     "output_type": "stream",
     "text": [
      "<class 'pandas.core.frame.DataFrame'>\n",
      "RangeIndex: 100000 entries, 0 to 99999\n",
      "Data columns (total 53 columns):\n",
      " #   Column                             Non-Null Count   Dtype  \n",
      "---  ------                             --------------   -----  \n",
      " 0   Unnamed: 0                         100000 non-null  int64  \n",
      " 1   ID                                 100000 non-null  object \n",
      " 2   Customer_ID                        100000 non-null  object \n",
      " 3   Name                               100000 non-null  object \n",
      " 4   Age                                100000 non-null  int64  \n",
      " 5   SSN                                100000 non-null  object \n",
      " 6   Month                              100000 non-null  object \n",
      " 7   Occupation                         100000 non-null  object \n",
      " 8   Annual_Income                      100000 non-null  float64\n",
      " 9   Monthly_Inhand_Salary              100000 non-null  float64\n",
      " 10  Num_Bank_Accounts                  100000 non-null  float64\n",
      " 11  Num_Credit_Card                    100000 non-null  float64\n",
      " 12  Interest_Rate                      100000 non-null  float64\n",
      " 13  Num_of_Loan                        100000 non-null  int64  \n",
      " 14  Type_of_Loan                       100000 non-null  object \n",
      " 15  Outstanding_Debt                   100000 non-null  float64\n",
      " 16  Credit_Utilization_Ratio           100000 non-null  float64\n",
      " 17  Credit_History_Age_Months          100000 non-null  float64\n",
      " 18  Credit_Mix                         100000 non-null  object \n",
      " 19  Changed_Credit_Limit               100000 non-null  float64\n",
      " 20  Num_Credit_Inquiries               100000 non-null  float64\n",
      " 21  Delay_from_due_date                100000 non-null  int64  \n",
      " 22  Num_of_Delayed_Payment             100000 non-null  float64\n",
      " 23  Payment_of_Min_Amount              100000 non-null  object \n",
      " 24  Total_EMI_per_month                100000 non-null  float64\n",
      " 25  Payment_Behaviour                  100000 non-null  object \n",
      " 26  Payment_Value                      100000 non-null  object \n",
      " 27  Amount_invested_monthly            100000 non-null  float64\n",
      " 28  Monthly_Balance                    100000 non-null  float64\n",
      " 29  Credit_Score                       100000 non-null  object \n",
      " 30  Spending_Level                     100000 non-null  object \n",
      " 31  Customer_Category                  100000 non-null  object \n",
      " 32  Not Specified                      100000 non-null  int64  \n",
      " 33  Auto Loan                          100000 non-null  int64  \n",
      " 34  Mortgage Loan                      100000 non-null  int64  \n",
      " 35  Debt Consolidation Loan            100000 non-null  int64  \n",
      " 36  Personal Loan                      100000 non-null  int64  \n",
      " 37  Student Loan                       100000 non-null  int64  \n",
      " 38  Payday Loan                        100000 non-null  int64  \n",
      " 39  Home Equity Loan                   100000 non-null  int64  \n",
      " 40  Credit-Builder Loan                100000 non-null  int64  \n",
      " 41  Age_Category                       100000 non-null  object \n",
      " 42  Income_Category                    100000 non-null  object \n",
      " 43  Interest_Rate_Category             100000 non-null  object \n",
      " 44  Delayed_Payment_Category           100000 non-null  object \n",
      " 45  Delay_Category                     100000 non-null  object \n",
      " 46  Changed_Credit_Limit_Category      100000 non-null  object \n",
      " 47  Num_Credit_Inquiries_Category      100000 non-null  object \n",
      " 48  Credit_Utilization_Ratio_Category  100000 non-null  object \n",
      " 49  Num_Bank_Accounts_Category         100000 non-null  object \n",
      " 50  Num_Credit_Card_Category           100000 non-null  object \n",
      " 51  Risk_Profile                       100000 non-null  object \n",
      " 52  Salary_Range                       100000 non-null  object \n",
      "dtypes: float64(14), int64(13), object(26)\n",
      "memory usage: 40.4+ MB\n"
     ]
    }
   ],
   "source": [
    "df.info()"
   ]
  },
  {
   "cell_type": "code",
   "execution_count": 4,
   "id": "0a428e35-7eb3-4ebd-84c7-7480975dd374",
   "metadata": {},
   "outputs": [
    {
     "name": "stdout",
     "output_type": "stream",
     "text": [
      "Accuracy: 86.87%\n",
      "Classification Report:\n",
      "              precision    recall  f1-score   support\n",
      "\n",
      "           0       0.84      0.91      0.87      3576\n",
      "           1       0.83      0.85      0.84      5709\n",
      "           2       0.90      0.87      0.88     10715\n",
      "\n",
      "    accuracy                           0.87     20000\n",
      "   macro avg       0.86      0.87      0.86     20000\n",
      "weighted avg       0.87      0.87      0.87     20000\n",
      "\n"
     ]
    }
   ],
   "source": [
    "from sklearn.model_selection import train_test_split\n",
    "from sklearn.naive_bayes import GaussianNB\n",
    "from sklearn.metrics import accuracy_score, classification_report\n",
    "from sklearn.preprocessing import LabelEncoder\n",
    "\n",
    "# Load the dataset (assuming it's in a DataFrame called df)\n",
    "# df = pd.read_csv('path_to_file.csv') \n",
    "\n",
    "# Step 1: Preprocess the data\n",
    "\n",
    "# Initialize the LabelEncoder\n",
    "label_encoder = LabelEncoder()\n",
    "\n",
    "# Convert all object type columns to numeric using LabelEncoder\n",
    "for col in df.select_dtypes(include=['object']).columns:\n",
    "    df[col] = label_encoder.fit_transform(df[col])\n",
    "\n",
    "# Step 2: Encode the target column 'Credit_Score'\n",
    "df['Credit_Score'] = label_encoder.fit_transform(df['Credit_Score'])\n",
    "\n",
    "# Step 3: Split the data into features (X) and target (y)\n",
    "# Remove columns that should not be used as features\n",
    "X = df.drop(['Unnamed: 0', 'ID', 'Customer_ID', 'Name', 'SSN', 'Not Specified',\n",
    "       'Auto Loan', 'Mortgage Loan', 'Debt Consolidation Loan',\n",
    "       'Personal Loan', 'Student Loan', 'Payday Loan', 'Home Equity Loan',\n",
    "       'Credit-Builder Loan','Credit_Score'], axis=1)\n",
    "y = df['Credit_Score']\n",
    "\n",
    "# Step 4: Split the data into training and testing sets\n",
    "X_train, X_test, y_train, y_test = train_test_split(X, y, test_size=0.2, random_state=35)\n",
    "\n",
    "# Step 5: Initialize and train the Naïve Bayes model\n",
    "nb_model = GaussianNB()\n",
    "nb_model.fit(X_train, y_train)\n",
    "\n",
    "# Step 6: Make predictions on the test set\n",
    "y_pred = nb_model.predict(X_test)\n",
    "\n",
    "# Step 7: Evaluate the model\n",
    "accuracy = accuracy_score(y_test, y_pred)\n",
    "print(f\"Accuracy: {accuracy * 100:.2f}%\")\n",
    "\n",
    "# Display classification report\n",
    "print(\"Classification Report:\")\n",
    "print(classification_report(y_test, y_pred))\n"
   ]
  },
  {
   "cell_type": "code",
   "execution_count": 5,
   "id": "146f9604-7390-4091-82a1-fbb4a3d5a747",
   "metadata": {},
   "outputs": [],
   "source": [
    "pickle.dump(nb_model, open('my_model.pkl','wb'))\n",
    "model = pickle.load(open('my_model.pkl','rb'))"
   ]
  },
  {
   "cell_type": "code",
   "execution_count": 8,
   "id": "040da1ff-beac-4a3f-8586-9be63ca80b54",
   "metadata": {},
   "outputs": [
    {
     "ename": "SyntaxError",
     "evalue": "(unicode error) 'unicodeescape' codec can't decode bytes in position 2-3: truncated \\UXXXXXXXX escape (3126393967.py, line 5)",
     "output_type": "error",
     "traceback": [
      "\u001b[1;36m  Cell \u001b[1;32mIn[8], line 5\u001b[1;36m\u001b[0m\n\u001b[1;33m    notebook_path = \"C:\\Users\\YOUR PC\\Documents\\portfolio\\Banking_Project\\credit_score_notebook.ipynb\"\u001b[0m\n\u001b[1;37m                    ^\u001b[0m\n\u001b[1;31mSyntaxError\u001b[0m\u001b[1;31m:\u001b[0m (unicode error) 'unicodeescape' codec can't decode bytes in position 2-3: truncated \\UXXXXXXXX escape\n"
     ]
    }
   ],
   "source": [
    "import nbformat\n",
    "import pkg_resources\n",
    "\n",
    "# Load the notebook\n",
    "notebook_path = \"C:\\Users\\YOUR PC\\Documents\\portfolio\\Banking_Project\\credit_score_notebook.ipynb\"\n",
    "with open(notebook_path, \"r\", encoding=\"utf-8\") as f:\n",
    "    notebook = nbformat.read(f, as_version=4)\n",
    "\n",
    "# Extract code cells\n",
    "code_cells = [cell[\"source\"] for cell in notebook[\"cells\"] if cell[\"cell_type\"] == \"code\"]\n",
    "\n",
    "# Extract import statements\n",
    "import_statements = set()\n",
    "for code in code_cells:\n",
    "    for line in code.split(\"\\n\"):\n",
    "        line = line.strip()\n",
    "        if line.startswith(\"import \") or line.startswith(\"from \"):\n",
    "            import_statements.add(line)\n",
    "\n",
    "# Extract library names\n",
    "libraries = set()\n",
    "for statement in import_statements:\n",
    "    parts = statement.split()\n",
    "    if parts[0] == \"import\":\n",
    "        libraries.add(parts[1].split(\".\")[0])\n",
    "    elif parts[0] == \"from\":\n",
    "        libraries.add(parts[1].split(\".\")[0])\n",
    "\n",
    "# Get versions\n",
    "installed_packages = {pkg.key: pkg.version for pkg in pkg_resources.working_set}\n",
    "lib_versions = {lib: installed_packages.get(lib, \"Not Installed\") for lib in libraries}\n",
    "\n",
    "lib_versions\n"
   ]
  },
  {
   "cell_type": "code",
   "execution_count": null,
   "id": "b85dc4e4-5b25-43ab-bdf1-08cb1f9da45c",
   "metadata": {},
   "outputs": [],
   "source": []
  },
  {
   "cell_type": "code",
   "execution_count": null,
   "id": "58cef740-6fac-4988-9601-2dbbf9ed03a2",
   "metadata": {},
   "outputs": [],
   "source": []
  }
 ],
 "metadata": {
  "kernelspec": {
   "display_name": "Python 3 (ipykernel)",
   "language": "python",
   "name": "python3"
  },
  "language_info": {
   "codemirror_mode": {
    "name": "ipython",
    "version": 3
   },
   "file_extension": ".py",
   "mimetype": "text/x-python",
   "name": "python",
   "nbconvert_exporter": "python",
   "pygments_lexer": "ipython3",
   "version": "3.12.4"
  }
 },
 "nbformat": 4,
 "nbformat_minor": 5
}
